{
 "cells": [
  {
   "cell_type": "code",
   "execution_count": 1,
   "metadata": {},
   "outputs": [],
   "source": [
    "import numpy as np"
   ]
  },
  {
   "cell_type": "code",
   "execution_count": 75,
   "metadata": {},
   "outputs": [],
   "source": [
    "#\n",
    "#                      PERCEPTRON ALGORITHM\n",
    "#\n",
    "# The perceptron algorithm tries to identify the parameters of the decision line/plane/hyperplane in an iterative way.\n",
    "# Note: the line/plane/hyperplane are described byt a vector of dimension d (where d is the umber of feature) orhtogonal to the plane\n",
    "#       we call this verctor theta. If the line/plane/hyperplane is through the origin, this is all we need, otherwise we need to\n",
    "#       add a scalar to the model to quantify the offset, and we call this theta_0\n",
    "# Note: the algorithm also assume y belongs to {-1, +1}\n",
    "# the algorithm proceeds as follows:\n",
    "#  1) it starts with theta = 0 (vector)\n",
    "#  2) it computes y_i * ( theta.dot(x_i) )\n",
    "#     2a) it makes no changes if the resulting quantity is greater than zero\n",
    "#     2b) it changes theta so that the new theta is given by old_theta + y_i * x_i\n",
    "#  3) move to the next point and repeat point 2\n",
    "#  4) once the all points have been done, we repeat steps 2-3 T-times or until the there is no more change in theta\n",
    "data = np.array([[-1 ,-1],\n",
    "                 [ 1 , 0],\n",
    "                 [-1, 1.5]\n",
    "                  ])\n",
    "y_values = np.array([1,-1,1])\n",
    "\n",
    "def run_perceptron(x:np.array,y:np.array, max_repetitions:int=100, start:int=0):\n",
    "    #\n",
    "    # we get the number of features and init theta\n",
    "    d = x.shape[1]\n",
    "    N = x.shape[0]    \n",
    "    theta = np.zeros(d)\n",
    "    mistakes = 0\n",
    "    counter = 1\n",
    "    theta_progression = []\n",
    "    #\n",
    "    # Loop for each datapoint\n",
    "    print(\"--------------------\")\n",
    "    print(f\"Start Point is {start}\")\n",
    "    for iteration in range(max_repetitions):\n",
    "        print(f\"Start Iteration is {iteration}\")        \n",
    "        mistakes_done = False\n",
    "        for i in range(N):\n",
    "            point = x[ (i+start) % N ]\n",
    "            y_value = y[ (i+start) % N ]\n",
    "            score = y_value * theta.dot(point)\n",
    "            print(f\"I is {counter} - Point: {str(point):>12} - Y value: {str(y_value):>3}, score is: {score} - theta is {str(theta):20}\")\n",
    "            counter +=1\n",
    "            if score <= 0:\n",
    "                mistakes += 1\n",
    "                mistakes_done = True\n",
    "                theta = theta + y_value*point\n",
    "                print(f\"Point is misclassified (error n: {mistakes}) - new theta is: {theta} \")\n",
    "                theta_progression.append(list(theta))\n",
    "        #\n",
    "        #\n",
    "        if not mistakes_done:\n",
    "            print(f\"\\nNo changes to theta in last iteration, getting out of loop.. total mistakes done: {mistakes}\")\n",
    "            print(f\"Final theta: {theta} - Progression: {theta_progression}\")\n",
    "            break\n",
    "    \n",
    "            "
   ]
  },
  {
   "cell_type": "code",
   "execution_count": 76,
   "metadata": {},
   "outputs": [
    {
     "name": "stdout",
     "output_type": "stream",
     "text": [
      "--------------------\n",
      "Start Point is 0\n",
      "Start Iteration is 0\n",
      "I is 1 - Point:    [-1. -1.] - Y value:   1, score is: 0.0 - theta is [0. 0.]             \n",
      "Point is misclassified (error n: 1) - new theta is: [-1. -1.] \n",
      "I is 2 - Point:      [1. 0.] - Y value:  -1, score is: 1.0 - theta is [-1. -1.]           \n",
      "I is 3 - Point:  [-1.   1.5] - Y value:   1, score is: -0.5 - theta is [-1. -1.]           \n",
      "Point is misclassified (error n: 2) - new theta is: [-2.   0.5] \n",
      "Start Iteration is 1\n",
      "I is 4 - Point:    [-1. -1.] - Y value:   1, score is: 1.5 - theta is [-2.   0.5]         \n",
      "I is 5 - Point:      [1. 0.] - Y value:  -1, score is: 2.0 - theta is [-2.   0.5]         \n",
      "I is 6 - Point:  [-1.   1.5] - Y value:   1, score is: 2.75 - theta is [-2.   0.5]         \n",
      "\n",
      "No changes to theta in last iteration, getting out of loop.. total mistakes done: 2\n",
      "Final theta: [-2.   0.5] - Progression: [[-1.0, -1.0], [-2.0, 0.5]]\n"
     ]
    }
   ],
   "source": [
    "run_perceptron(data,y_values,start=0,max_repetitions=10)\n"
   ]
  },
  {
   "cell_type": "code",
   "execution_count": 68,
   "metadata": {},
   "outputs": [
    {
     "name": "stdout",
     "output_type": "stream",
     "text": [
      "--------------------\n",
      "Start Point is 1\n",
      "Start Iteration is 0\n",
      "I is 1 - Point:      [1. 0.] - Y value:  -1, score is: -0.0 - theta is [0. 0.]             \n",
      "Point is misclassified (error n: 1) - new theta is: [-1.  0.] \n",
      "I is 2 - Point:  [-1.   1.5] - Y value:   1, score is: 1.0 - theta is [-1.  0.]           \n",
      "I is 3 - Point:    [-1. -1.] - Y value:   1, score is: 1.0 - theta is [-1.  0.]           \n",
      "Start Iteration is 1\n",
      "I is 4 - Point:      [1. 0.] - Y value:  -1, score is: 1.0 - theta is [-1.  0.]           \n",
      "I is 5 - Point:  [-1.   1.5] - Y value:   1, score is: 1.0 - theta is [-1.  0.]           \n",
      "I is 6 - Point:    [-1. -1.] - Y value:   1, score is: 1.0 - theta is [-1.  0.]           \n",
      "\n",
      "No changes to theta in last iteration, getting out of loop.. total mistakes done: 1\n",
      "Final theta: [-1.  0.] - Progression: [array([-1.,  0.])]\n"
     ]
    }
   ],
   "source": [
    "run_perceptron(data,y_values,start=1,max_repetitions=10)\n"
   ]
  },
  {
   "cell_type": "code",
   "execution_count": 77,
   "metadata": {},
   "outputs": [
    {
     "name": "stdout",
     "output_type": "stream",
     "text": [
      "--------------------\n",
      "Start Point is 0\n",
      "Start Iteration is 0\n",
      "I is 1 - Point:      [-1 -1] - Y value:   1, score is: 0.0 - theta is [0. 0.]             \n",
      "Point is misclassified (error n: 1) - new theta is: [-1. -1.] \n",
      "I is 2 - Point:        [1 0] - Y value:  -1, score is: 1.0 - theta is [-1. -1.]           \n",
      "I is 3 - Point:      [-1 10] - Y value:   1, score is: -9.0 - theta is [-1. -1.]           \n",
      "Point is misclassified (error n: 2) - new theta is: [-2.  9.] \n",
      "Start Iteration is 1\n",
      "I is 4 - Point:      [-1 -1] - Y value:   1, score is: -7.0 - theta is [-2.  9.]           \n",
      "Point is misclassified (error n: 3) - new theta is: [-3.  8.] \n",
      "I is 5 - Point:        [1 0] - Y value:  -1, score is: 3.0 - theta is [-3.  8.]           \n",
      "I is 6 - Point:      [-1 10] - Y value:   1, score is: 83.0 - theta is [-3.  8.]           \n",
      "Start Iteration is 2\n",
      "I is 7 - Point:      [-1 -1] - Y value:   1, score is: -5.0 - theta is [-3.  8.]           \n",
      "Point is misclassified (error n: 4) - new theta is: [-4.  7.] \n",
      "I is 8 - Point:        [1 0] - Y value:  -1, score is: 4.0 - theta is [-4.  7.]           \n",
      "I is 9 - Point:      [-1 10] - Y value:   1, score is: 74.0 - theta is [-4.  7.]           \n",
      "Start Iteration is 3\n",
      "I is 10 - Point:      [-1 -1] - Y value:   1, score is: -3.0 - theta is [-4.  7.]           \n",
      "Point is misclassified (error n: 5) - new theta is: [-5.  6.] \n",
      "I is 11 - Point:        [1 0] - Y value:  -1, score is: 5.0 - theta is [-5.  6.]           \n",
      "I is 12 - Point:      [-1 10] - Y value:   1, score is: 65.0 - theta is [-5.  6.]           \n",
      "Start Iteration is 4\n",
      "I is 13 - Point:      [-1 -1] - Y value:   1, score is: -1.0 - theta is [-5.  6.]           \n",
      "Point is misclassified (error n: 6) - new theta is: [-6.  5.] \n",
      "I is 14 - Point:        [1 0] - Y value:  -1, score is: 6.0 - theta is [-6.  5.]           \n",
      "I is 15 - Point:      [-1 10] - Y value:   1, score is: 56.0 - theta is [-6.  5.]           \n",
      "Start Iteration is 5\n",
      "I is 16 - Point:      [-1 -1] - Y value:   1, score is: 1.0 - theta is [-6.  5.]           \n",
      "I is 17 - Point:        [1 0] - Y value:  -1, score is: 6.0 - theta is [-6.  5.]           \n",
      "I is 18 - Point:      [-1 10] - Y value:   1, score is: 56.0 - theta is [-6.  5.]           \n",
      "\n",
      "No changes to theta in last iteration, getting out of loop.. total mistakes done: 6\n",
      "Final theta: [-6.  5.] - Progression: [[-1.0, -1.0], [-2.0, 9.0], [-3.0, 8.0], [-4.0, 7.0], [-5.0, 6.0], [-6.0, 5.0]]\n"
     ]
    }
   ],
   "source": [
    "#\n",
    "# basically same as before but the 3rd point has changed and its norm is much bigger..\n",
    "data = np.array([[-1 ,-1],\n",
    "                 [ 1 , 0],\n",
    "                 [-1, 10]\n",
    "                  ])\n",
    "\n",
    "run_perceptron(data,y_values,start=0,max_repetitions=10)"
   ]
  },
  {
   "cell_type": "code",
   "execution_count": 78,
   "metadata": {},
   "outputs": [
    {
     "name": "stdout",
     "output_type": "stream",
     "text": [
      "--------------------\n",
      "Start Point is 1\n",
      "Start Iteration is 0\n",
      "I is 1 - Point:        [1 0] - Y value:  -1, score is: -0.0 - theta is [0. 0.]             \n",
      "Point is misclassified (error n: 1) - new theta is: [-1.  0.] \n",
      "I is 2 - Point:      [-1 10] - Y value:   1, score is: 1.0 - theta is [-1.  0.]           \n",
      "I is 3 - Point:      [-1 -1] - Y value:   1, score is: 1.0 - theta is [-1.  0.]           \n",
      "Start Iteration is 1\n",
      "I is 4 - Point:        [1 0] - Y value:  -1, score is: 1.0 - theta is [-1.  0.]           \n",
      "I is 5 - Point:      [-1 10] - Y value:   1, score is: 1.0 - theta is [-1.  0.]           \n",
      "I is 6 - Point:      [-1 -1] - Y value:   1, score is: 1.0 - theta is [-1.  0.]           \n",
      "\n",
      "No changes to theta in last iteration, getting out of loop.. total mistakes done: 1\n",
      "Final theta: [-1.  0.] - Progression: [[-1.0, 0.0]]\n"
     ]
    }
   ],
   "source": [
    "#\n",
    "# basically same as before but the 3rd point has changed and its norm is much bigger..\n",
    "data = np.array([[-1 ,-1],\n",
    "                 [ 1 , 0],\n",
    "                 [-1, 10]\n",
    "                  ])\n",
    "\n",
    "run_perceptron(data,y_values,start=1,max_repetitions=10)"
   ]
  },
  {
   "cell_type": "code",
   "execution_count": 45,
   "metadata": {},
   "outputs": [
    {
     "data": {
      "text/plain": [
       "0.0"
      ]
     },
     "execution_count": 45,
     "metadata": {},
     "output_type": "execute_result"
    }
   ],
   "source": [
    "theta.dot(theta)"
   ]
  },
  {
   "cell_type": "code",
   "execution_count": 15,
   "metadata": {},
   "outputs": [
    {
     "data": {
      "text/plain": [
       "1"
      ]
     },
     "execution_count": 15,
     "metadata": {},
     "output_type": "execute_result"
    }
   ],
   "source": [
    "l[5%5]"
   ]
  },
  {
   "cell_type": "code",
   "execution_count": null,
   "metadata": {},
   "outputs": [],
   "source": []
  }
 ],
 "metadata": {
  "kernelspec": {
   "display_name": "Python 3",
   "language": "python",
   "name": "python3"
  },
  "language_info": {
   "codemirror_mode": {
    "name": "ipython",
    "version": 3
   },
   "file_extension": ".py",
   "mimetype": "text/x-python",
   "name": "python",
   "nbconvert_exporter": "python",
   "pygments_lexer": "ipython3",
   "version": "3.8.19"
  }
 },
 "nbformat": 4,
 "nbformat_minor": 2
}
