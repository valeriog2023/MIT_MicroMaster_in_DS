{
 "cells": [
  {
   "cell_type": "code",
   "execution_count": 4,
   "metadata": {},
   "outputs": [
    {
     "name": "stdout",
     "output_type": "stream",
     "text": [
      "v1 norm [0.4 0.3]: 0.5\n",
      "v2 norm [-0.15  0.2 ]: 0.25\n",
      "Dot prodct: 0.0\n"
     ]
    }
   ],
   "source": [
    "import numpy as np\n",
    "\n",
    "v1 = np.array([0.4,0.3])\n",
    "v2 = np.array([-0.15, 0.2])\n",
    "print(f\"v1 norm {v1}: {np.linalg.norm(v1)}\")\n",
    "print(f\"v2 norm {v2}: {np.linalg.norm(v2)}\")\n",
    "print(f\"Dot prodct: {v1.dot(v2)}\")\n",
    "#\n",
    "# the dot produc can also be seen as ||v1||*||v2||*cos(theta)\n",
    "# so fi look for theta in this case is PI/2 because the dot product is zero\n"
   ]
  },
  {
   "cell_type": "code",
   "execution_count": 15,
   "metadata": {},
   "outputs": [
    {
     "name": "stdout",
     "output_type": "stream",
     "text": [
      "2\n",
      "3\n",
      "2\n",
      "6.0\n"
     ]
    }
   ],
   "source": [
    "#((theta * v) - theta_0) / norm(theta)\n",
    "\n",
    "#v - ((v - s/norm(theta)^2 * theta) • theta) / (theta • theta) * theta\n",
    "\n",
    "\n",
    "#v - (((v*theta))/norm(theta)^2)*theta\n",
    "\n",
    "\n",
    "\n",
    "#v - (((v*theta)- theta_0)/norm(theta)^2)*theta\n",
    "#v - (((v*theta)- theta_0)/norm(theta))*theta\n",
    "\n",
    "A = np.array([[1,2,3],\n",
    "              [4,5,6],\n",
    "              [1,2,1]\n",
    "              ])\n",
    "\n",
    "u =np.array([1,3])\n",
    "v =np.array([-1,1])\n",
    "np.outer(u,v)\n",
    "\n",
    "\n",
    "\n",
    "B = np.array([[1,2],\n",
    "              [2,1]\n",
    "              ])\n",
    "\n",
    "print(np.linalg.matrix_rank(B))\n",
    "\n",
    "C = np.array([[1,1,0],\n",
    "              [0,1,1],\n",
    "              [0,0,1]\n",
    "              ])\n",
    "print(np.linalg.matrix_rank(C))\n",
    "\n",
    "D = np.array([[ 2,- 1,-1],\n",
    "              [-1,  2,-1],\n",
    "              [-1, -1, 2]\n",
    "              ])\n",
    "print(np.linalg.matrix_rank(D))\n",
    "\n",
    "\n",
    "\n",
    "A = np.array([[1,2,3],\n",
    "              [4,5,6],\n",
    "              [1,2,1]\n",
    "              ])\n",
    "\n",
    "print(np.linalg.det(A.T))\n",
    "\n"
   ]
  },
  {
   "cell_type": "code",
   "execution_count": null,
   "metadata": {},
   "outputs": [],
   "source": []
  }
 ],
 "metadata": {
  "kernelspec": {
   "display_name": "Python 3",
   "language": "python",
   "name": "python3"
  },
  "language_info": {
   "codemirror_mode": {
    "name": "ipython",
    "version": 3
   },
   "file_extension": ".py",
   "mimetype": "text/x-python",
   "name": "python",
   "nbconvert_exporter": "python",
   "pygments_lexer": "ipython3",
   "version": "3.10.12"
  }
 },
 "nbformat": 4,
 "nbformat_minor": 2
}
